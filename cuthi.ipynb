{
  "metadata": {
    "kernelspec": {
      "name": "python",
      "display_name": "Python (Pyodide)",
      "language": "python"
    },
    "language_info": {
      "codemirror_mode": {
        "name": "python",
        "version": 3
      },
      "file_extension": ".py",
      "mimetype": "text/x-python",
      "name": "python",
      "nbconvert_exporter": "python",
      "pygments_lexer": "ipython3",
      "version": "3.8"
    }
  },
  "nbformat_minor": 4,
  "nbformat": 4,
  "cells": [
    {
      "cell_type": "code",
      "source": "def idw(x,y,stations, alpha=2):\n    for i in range(len(stations)):\n        if stations[i][0] == x and stations[i][1] == y:\n            return stations[i][2]\n\n    wtotal=0\n    for k in range(len(stations)):\n        r = ((stations[k,0]-x)**2+(stations[k,1]-y)**2)  # it's r^2\n        if r!=0:\n            w=1./r**(alpha/2)\n            wtotal+=w\n    res=0\n    for k in range(len(stations)):\n        r = ((stations[k,0]-x)**2+(stations[k,1]-y)**2)\n        if r == 0:\n            res = stations[k,2]\n        else:\n            w=1./r**(alpha/2)\n            res+=stations[k,2]*w/wtotal\n    \n    return res",
      "metadata": {
        "trusted": true
      },
      "outputs": [],
      "execution_count": 1
    },
    {
      "cell_type": "code",
      "source": "def nearest(i,j,stations):\n    rmin=9e99\n    val=0\n    for k in range(len(stations)):\n        r = ((stations[k,0]-j)**2+(stations[k,1]-i)**2)**0.5\n        if r<rmin:\n            rmin=r\n            val = stations[k,2]    \n    return val",
      "metadata": {
        "trusted": true
      },
      "outputs": [],
      "execution_count": 3
    },
    {
      "cell_type": "code",
      "source": "import sklearn.metrics\ndef crossvalidation_paper(stations, alpha = 2):\n    \n    r2 = 0\n    size=len(stations)\n    result = []    \n    for i in range(size):\n            # if i%100 == 0: print(i,'/',size)\n            cv = []\n            for j in range(size):\n                if i!=j:\n                   cv.append(stations[j])                      \n            cv = np.asarray(cv)\n            result.append(idw(stations[i,0],stations[i,1],cv, alpha=alpha))\n    \n    r2   += sklearn.metrics.r2_score(stations[:,2], result)\n        \n    return round(r2,2)",
      "metadata": {
        "trusted": true
      },
      "outputs": [],
      "execution_count": 57
    },
    {
      "cell_type": "code",
      "source": "import random\nimport numpy as np\ndef getFunction(size):\n    minlat = -50\n    maxlat = 150\n    minlng = -50\n    maxlng = 150\n    \n    stations = []\n    for i in range (size):\n        latrand = random.uniform(minlat, maxlat)\n        lngrand = random.uniform(minlng, maxlng)\n        z = latrand **3 - lngrand **3\n        # z = math.sin(latrand/100.) + math.cos(lngrand/100.)\n        # z = latrand * 3 + lngrand \n        # z = 200\n        stations.append([lngrand, latrand, z])\n    # print(i, stations[i])\n    stations = np.asarray(stations)\n    \n    return stations\n",
      "metadata": {
        "trusted": true
      },
      "outputs": [],
      "execution_count": 11
    },
    {
      "cell_type": "code",
      "source": "stations = getFunction(6)\nprint(idw(20, 30, stations), nearest(20, 30, stations), 20**3-30**3)\nprint ('cross validation score is ',crossvalidation_paper(stations))",
      "metadata": {
        "trusted": true
      },
      "outputs": [
        {
          "name": "stdout",
          "text": "58991.159885547924 59361.55498867723 -19000\ncross validation score is  0.74\n",
          "output_type": "stream"
        }
      ],
      "execution_count": 138
    }
  ]
}